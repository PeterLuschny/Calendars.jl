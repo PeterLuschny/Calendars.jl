{
 "cells": [
  {
   "cell_type": "markdown",
   "id": "82669be7-f9de-4fad-8590-5de8cdd537ff",
   "metadata": {},
   "source": [
    "<h1 style='color:#5E7AFF'>CALENDARS</h1>"
   ]
  },
  {
   "cell_type": "markdown",
   "id": "389c7a2b-de64-4a79-bfd1-f8f6be5b2fdf",
   "metadata": {},
   "source": [
    "<strong>Registered on [JuliaHub](https://juliahub.com/ui/Packages/Calendars/yDHMq/0.1.2), \n",
    "    read the [Docs](https://docs.juliahub.com/Calendars/yDHMq/0.1.2/Calendars/), \n",
    "    get the source from the [repository](https://github.com/PeterLuschny/Calendars.jl) on GitHub, \n",
    "    or install with Pkg.add(\"Calendars\").</strong>"
   ]
  },
  {
   "cell_type": "code",
   "execution_count": 1,
   "id": "d3cb37c3-bef7-4690-b048-eb1de41bb511",
   "metadata": {},
   "outputs": [],
   "source": [
    "using Calendars"
   ]
  },
  {
   "cell_type": "markdown",
   "id": "a5003c92-f274-4857-ac5b-b560b5505791",
   "metadata": {},
   "source": [
    "<p style=\"color:brown;font-size:large\">Conversion of Dates</p>"
   ]
  },
  {
   "cell_type": "code",
   "execution_count": 2,
   "id": "459812c0",
   "metadata": {},
   "outputs": [
    {
     "data": {
      "text/plain": [
       "(\"AM\", 5516, 11, 25)"
      ]
     },
     "execution_count": 2,
     "metadata": {},
     "output_type": "execute_result"
    }
   ],
   "source": [
    "ConvertDate((1756, 1, 27), \"Gregorian\", \"Hebrew\")"
   ]
  },
  {
   "cell_type": "code",
   "execution_count": null,
   "id": "6c7451da",
   "metadata": {},
   "outputs": [],
   "source": [
    "ConvertDate(1756, 1, 27, \"CE\", \"AM\", true)"
   ]
  },
  {
   "cell_type": "markdown",
   "id": "aed30822-2685-453f-816d-d74406b65a1f",
   "metadata": {},
   "source": [
    "<p style=\"color:brown;font-size:large\">Date from day number</p>"
   ]
  },
  {
   "cell_type": "code",
   "execution_count": 4,
   "id": "6521cede",
   "metadata": {},
   "outputs": [
    {
     "data": {
      "text/plain": [
       "(\"CE\", 1756, 1, 27)"
      ]
     },
     "execution_count": 4,
     "metadata": {},
     "output_type": "execute_result"
    }
   ],
   "source": [
    "DateFromDNumber(641027, \"Gregorian\")"
   ]
  },
  {
   "cell_type": "markdown",
   "id": "f9aa5345-864e-48b6-8f43-6415da6b1e80",
   "metadata": {},
   "source": [
    "<p style=\"color:brown;font-size:large\">Day number from Date</p>"
   ]
  },
  {
   "cell_type": "code",
   "execution_count": 5,
   "id": "84008ebb",
   "metadata": {},
   "outputs": [
    {
     "name": "stdout",
     "output_type": "stream",
     "text": [
      "CE 1756-01-27 -> DN 0641027\n"
     ]
    },
    {
     "data": {
      "text/plain": [
       "641027"
      ]
     },
     "execution_count": 5,
     "metadata": {},
     "output_type": "execute_result"
    }
   ],
   "source": [
    "DNumberFromDate(1756, 1, 27, \"CE\", true)"
   ]
  },
  {
   "cell_type": "markdown",
   "id": "bddb98f5-1c82-4bc6-b7b6-fcb5000ed3d0",
   "metadata": {},
   "source": [
    "<p style=\"color:brown;font-size:large\">Calendars Dates</p>"
   ]
  },
  {
   "cell_type": "code",
   "execution_count": 6,
   "id": "07bbb3b3",
   "metadata": {},
   "outputs": [
    {
     "data": {
      "text/plain": [
       "((\"DN\", 0, 0, 641027), (\"CE\", 1756, 1, 27), (\"AD\", 1756, 1, 16), (\"AM\", 5516, 11, 25), (\"AH\", 1169, 4, 24), (\"ID\", 1756, 5, 2))"
      ]
     },
     "execution_count": 6,
     "metadata": {},
     "output_type": "execute_result"
    }
   ],
   "source": [
    "CalendarDates((1756, 1, 27), \"Gregorian\")"
   ]
  },
  {
   "cell_type": "code",
   "execution_count": 7,
   "id": "f54dfc8b",
   "metadata": {},
   "outputs": [
    {
     "name": "stdout",
     "output_type": "stream",
     "text": [
      "DayNumber    DN 0641027\n",
      "CurrentEpoch CE 1756-01-27\n",
      "Julian       AD 1756-01-16\n",
      "Hebrew       AM 5516-11-25\n",
      "Islamic      AH 1169-04-24\n",
      "ISODate      ID 1756-05-02\n"
     ]
    },
    {
     "data": {
      "text/plain": [
       "((\"DN\", 0, 0, 641027), (\"CE\", 1756, 1, 27), (\"AD\", 1756, 1, 16), (\"AM\", 5516, 11, 25), (\"AH\", 1169, 4, 24), (\"ID\", 1756, 5, 2))"
      ]
     },
     "execution_count": 7,
     "metadata": {},
     "output_type": "execute_result"
    }
   ],
   "source": [
    "CalendarDates(1756, 1, 27, \"CE\", true)"
   ]
  }
 ],
 "metadata": {
  "kernelspec": {
   "display_name": "Julia 1.8.0-DEV",
   "language": "julia",
   "name": "julia-1.8"
  },
  "language_info": {
   "file_extension": ".jl",
   "mimetype": "application/julia",
   "name": "julia",
   "version": "1.8.0"
  }
 },
 "nbformat": 4,
 "nbformat_minor": 5
}
