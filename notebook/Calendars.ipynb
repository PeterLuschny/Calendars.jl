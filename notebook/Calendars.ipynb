{
 "cells": [
  {
   "cell_type": "markdown",
   "id": "82669be7-f9de-4fad-8590-5de8cdd537ff",
   "metadata": {},
   "source": [
    "<h1 style='color:#5E7AFF'>CALENDARS</h1>"
   ]
  },
  {
   "cell_type": "markdown",
   "id": "389c7a2b-de64-4a79-bfd1-f8f6be5b2fdf",
   "metadata": {},
   "source": [
    "<strong>Registered on [JuliaHub](https://juliahub.com/ui/Packages/Calendars/yDHMq), \n",
    "    read the [Docs](https://docs.juliahub.com/Calendars/yDHMq), \n",
    "    get the source from the [repository](https://github.com/PeterLuschny/Calendars.jl) on GitHub, \n",
    "    or install with Pkg.add(\"Calendars\").</strong>"
   ]
  },
  {
   "cell_type": "code",
   "execution_count": null,
   "id": "d3cb37c3-bef7-4690-b048-eb1de41bb511",
   "metadata": {},
   "outputs": [],
   "source": [
    "using Calendars"
   ]
  },
  {
   "cell_type": "markdown",
   "id": "a5003c92-f274-4857-ac5b-b560b5505791",
   "metadata": {},
   "source": [
    "<p style=\"color:brown;font-size:large\">Conversion of Dates</p>"
   ]
  },
  {
   "cell_type": "code",
   "execution_count": 2,
   "id": "459812c0",
   "metadata": {},
   "outputs": [
    {
     "data": {
      "text/plain": [
       "(\"AM\", 5516, 11, 25)"
      ]
     },
     "execution_count": 2,
     "metadata": {},
     "output_type": "execute_result"
    }
   ],
   "source": [
    "ConvertDate((\"Gregorian\", 1756, 1, 27), \"Hebrew\")"
   ]
  },
  {
   "cell_type": "code",
   "execution_count": 3,
   "id": "6c7451da",
   "metadata": {},
   "outputs": [
    {
     "name": "stdout",
     "output_type": "stream",
     "text": [
      "CE 1756-01-27 -> AM 5516-11-25\n"
     ]
    },
    {
     "data": {
      "text/plain": [
       "(\"AM\", 5516, 11, 25)"
      ]
     },
     "execution_count": 3,
     "metadata": {},
     "output_type": "execute_result"
    }
   ],
   "source": [
    "ConvertDate(\"CE\", 1756, 1, 27, \"AM\", true)"
   ]
  },
  {
   "cell_type": "markdown",
   "id": "aed30822-2685-453f-816d-d74406b65a1f",
   "metadata": {},
   "source": [
    "<p style=\"color:brown;font-size:large\">Date from day number</p>"
   ]
  },
  {
   "cell_type": "code",
   "execution_count": 4,
   "id": "6521cede",
   "metadata": {},
   "outputs": [
    {
     "data": {
      "text/plain": [
       "(\"CE\", 1756, 1, 27)"
      ]
     },
     "execution_count": 4,
     "metadata": {},
     "output_type": "execute_result"
    }
   ],
   "source": [
    "DateFromDayNumber(\"Gregorian\", 641027)"
   ]
  },
  {
   "cell_type": "markdown",
   "id": "f9aa5345-864e-48b6-8f43-6415da6b1e80",
   "metadata": {},
   "source": [
    "<p style=\"color:brown;font-size:large\">Day number from Date</p>"
   ]
  },
  {
   "cell_type": "code",
   "execution_count": 5,
   "id": "84008ebb",
   "metadata": {},
   "outputs": [
    {
     "name": "stdout",
     "output_type": "stream",
     "text": [
      "CE 1756-01-27 -> RD  641027\n"
     ]
    },
    {
     "data": {
      "text/plain": [
       "641027"
      ]
     },
     "execution_count": 5,
     "metadata": {},
     "output_type": "execute_result"
    }
   ],
   "source": [
    "DayNumberFromDate(\"CE\", 1756, 1, 27, true)"
   ]
  },
  {
   "cell_type": "markdown",
   "id": "bddb98f5-1c82-4bc6-b7b6-fcb5000ed3d0",
   "metadata": {},
   "source": [
    "<p style=\"color:brown;font-size:large\">Calendar Dates</p>"
   ]
  },
  {
   "cell_type": "code",
   "execution_count": 6,
   "id": "07bbb3b3",
   "metadata": {},
   "outputs": [
    {
     "data": {
      "text/plain": [
       "((\"CE\", 1756, 1, 27), (\"RC\", 1756, 1, 16), (\"EC\", 1756, 1, 27), (\"AM\", 5516, 11, 25), (\"AH\", 1169, 4, 24), (\"ID\", 1756, 5, 2), (\"RD\", 0, 0, 641027))"
      ]
     },
     "execution_count": 6,
     "metadata": {},
     "output_type": "execute_result"
    }
   ],
   "source": [
    "CalendarDates(\"Gregorian\", 1756, 1, 27)"
   ]
  },
  {
   "cell_type": "code",
   "execution_count": 7,
   "id": "f54dfc8b",
   "metadata": {},
   "outputs": [
    {
     "name": "stdout",
     "output_type": "stream",
     "text": [
      "((\"CE\", 1756, 1, 27), (\"RC\", 1756, 1, 16), (\"EC\", 1756, 1, 27), (\"AM\", 5516, 11, 25), (\"AH\", 1169, 4, 24), (\"ID\", 1756, 5, 2), (\"RD\", 0, 0, 641027))\n",
      "Common    CE 1756-01-27\n",
      "Julian    RC 1756-01-16\n",
      "European  EC 1756-01-27\n",
      "Hebrew    AM 5516-11-25\n",
      "Islamic   AH 1169-04-24\n",
      "IsoDate   ID 1756-05-02\n",
      "DayNumber RD  641027\n"
     ]
    },
    {
     "data": {
      "text/plain": [
       "((\"CE\", 1756, 1, 27), (\"RC\", 1756, 1, 16), (\"EC\", 1756, 1, 27), (\"AM\", 5516, 11, 25), (\"AH\", 1169, 4, 24), (\"ID\", 1756, 5, 2), (\"RD\", 0, 0, 641027))"
      ]
     },
     "execution_count": 7,
     "metadata": {},
     "output_type": "execute_result"
    }
   ],
   "source": [
    "CalendarDates(\"CE\", 1756, 1, 27, true)"
   ]
  },
  {
   "cell_type": "markdown",
   "id": "5fc73ca6-417c-474e-b4dc-446c6a492a44",
   "metadata": {},
   "source": [
    "<p style=\"color:brown;font-size:large\">Epoch of Diocletian, Coptic calendar</p>"
   ]
  },
  {
   "cell_type": "code",
   "execution_count": 8,
   "id": "d20730c4-b57c-436c-be78-f1ca7b4a9ead",
   "metadata": {},
   "outputs": [
    {
     "name": "stdout",
     "output_type": "stream",
     "text": [
      "((\"CE\", 284, 8, 29), (\"RC\", 284, 8, 29), (\"EC\", 284, 8, 29), (\"AM\", 4044, 6, 29), (\"00\", 0, 0, 0), (\"ID\", 284, 35, 5), (\"RD\", 0, 0, 103605))\n",
      "Common    CE 0284-08-29\n",
      "Julian    RC 0284-08-29\n",
      "European  EC 0284-08-29\n",
      "Hebrew    AM 4044-06-29\n",
      "INVALID   00 0000-00-00\n",
      "IsoDate   ID 0284-35-05\n",
      "DayNumber RD  103605\n"
     ]
    },
    {
     "name": "stderr",
     "output_type": "stream",
     "text": [
      "┌ Warning: AH is not a valid date!\n",
      "└ @ Calendars c:\\Users\\User\\Calendars.jl\\src\\IslamicCalendar.jl:85\n"
     ]
    },
    {
     "data": {
      "text/plain": [
       "((\"CE\", 284, 8, 29), (\"RC\", 284, 8, 29), (\"EC\", 284, 8, 29), (\"AM\", 4044, 6, 29), (\"00\", 0, 0, 0), (\"ID\", 284, 35, 5), (\"RD\", 0, 0, 103605))"
      ]
     },
     "execution_count": 8,
     "metadata": {},
     "output_type": "execute_result"
    }
   ],
   "source": [
    "CalendarDates(\"RC\", 284, 8, 29, true)"
   ]
  },
  {
   "cell_type": "markdown",
   "id": "74ec0093-2344-4272-9bbf-962a9b25cff9",
   "metadata": {},
   "source": [
    "<p style=\"color:brown;font-size:large\">Epoch of Gregorian calendar (CE)</p>"
   ]
  },
  {
   "cell_type": "code",
   "execution_count": 9,
   "id": "46091db4-1f82-4a7d-9f25-2e82dc61de0b",
   "metadata": {},
   "outputs": [
    {
     "name": "stdout",
     "output_type": "stream",
     "text": [
      "((\"CE\", 1582, 10, 15), (\"RC\", 1582, 10, 5), (\"EC\", 1582, 10, 15), (\"AM\", 5343, 7, 19), (\"AH\", 990, 9, 17), (\"ID\", 1582, 41, 5), (\"RD\", 0, 0, 577736))\n",
      "Common    CE 1582-10-15\n",
      "Julian    RC 1582-10-05\n",
      "European  EC 1582-10-15\n",
      "Hebrew    AM 5343-07-19\n",
      "Islamic   AH 0990-09-17\n",
      "IsoDate   ID 1582-41-05\n",
      "DayNumber RD  577736\n"
     ]
    },
    {
     "data": {
      "text/plain": [
       "((\"CE\", 1582, 10, 15), (\"RC\", 1582, 10, 5), (\"EC\", 1582, 10, 15), (\"AM\", 5343, 7, 19), (\"AH\", 990, 9, 17), (\"ID\", 1582, 41, 5), (\"RD\", 0, 0, 577736))"
      ]
     },
     "execution_count": 9,
     "metadata": {},
     "output_type": "execute_result"
    }
   ],
   "source": [
    "CalendarDates(\"CE\", 1582, 10, 15, true)"
   ]
  },
  {
   "cell_type": "markdown",
   "id": "de693bec-552a-4936-9e77-8e4213fbbea1",
   "metadata": {},
   "source": [
    "<p style=\"color:brown;font-size:large\">Epoch of Islamic calendar (AH)</p>"
   ]
  },
  {
   "cell_type": "code",
   "execution_count": 10,
   "id": "2f6af10f-4b78-43d7-b389-ce93e95cdba5",
   "metadata": {},
   "outputs": [
    {
     "name": "stdout",
     "output_type": "stream",
     "text": [
      "((\"CE\", 622, 7, 19), (\"RC\", 622, 7, 16), (\"EC\", 622, 7, 16), (\"AM\", 4382, 5, 3), (\"AH\", 1, 1, 1), (\"ID\", 622, 29, 5), (\"RD\", 0, 0, 227015))\n",
      "Common    CE 0622-07-19\n",
      "Julian    RC 0622-07-16\n",
      "European  EC 0622-07-16\n",
      "Hebrew    AM 4382-05-03\n",
      "Islamic   AH 0001-01-01\n",
      "IsoDate   ID 0622-29-05\n",
      "DayNumber RD  227015\n"
     ]
    },
    {
     "data": {
      "text/plain": [
       "((\"CE\", 622, 7, 19), (\"RC\", 622, 7, 16), (\"EC\", 622, 7, 16), (\"AM\", 4382, 5, 3), (\"AH\", 1, 1, 1), (\"ID\", 622, 29, 5), (\"RD\", 0, 0, 227015))"
      ]
     },
     "execution_count": 10,
     "metadata": {},
     "output_type": "execute_result"
    }
   ],
   "source": [
    "CalendarDates(\"RC\", 622, 7, 16, true)"
   ]
  },
  {
   "cell_type": "markdown",
   "id": "bc7a7a6d-10c0-4d11-b510-5cb208998c98",
   "metadata": {},
   "source": [
    "<p style=\"color:brown;font-size:large\">French Republican calendar</p>"
   ]
  },
  {
   "cell_type": "code",
   "execution_count": 11,
   "id": "f48190e1-6edd-459d-9e92-b47fbe372885",
   "metadata": {},
   "outputs": [
    {
     "name": "stdout",
     "output_type": "stream",
     "text": [
      "((\"CE\", 1792, 9, 22), (\"RC\", 1792, 9, 11), (\"EC\", 1792, 9, 22), (\"AM\", 5553, 7, 6), (\"AH\", 1207, 2, 5), (\"ID\", 1792, 38, 6), (\"RD\", 0, 0, 654415))\n",
      "Common    CE 1792-09-22\n",
      "Julian    RC 1792-09-11\n",
      "European  EC 1792-09-22\n",
      "Hebrew    AM 5553-07-06\n",
      "Islamic   AH 1207-02-05\n",
      "IsoDate   ID 1792-38-06\n",
      "DayNumber RD  654415\n"
     ]
    },
    {
     "data": {
      "text/plain": [
       "((\"CE\", 1792, 9, 22), (\"RC\", 1792, 9, 11), (\"EC\", 1792, 9, 22), (\"AM\", 5553, 7, 6), (\"AH\", 1207, 2, 5), (\"ID\", 1792, 38, 6), (\"RD\", 0, 0, 654415))"
      ]
     },
     "execution_count": 11,
     "metadata": {},
     "output_type": "execute_result"
    }
   ],
   "source": [
    "CalendarDates(\"CE\", 1792, 9, 22, true)"
   ]
  },
  {
   "cell_type": "markdown",
   "id": "e57c58b4-6a76-4007-8c6e-c6c5a21296e3",
   "metadata": {},
   "source": [
    "<p style=\"color:brown;font-size:large\">First crewed moon landing (Apollo 11)</p> "
   ]
  },
  {
   "cell_type": "code",
   "execution_count": 12,
   "id": "44587a06-6666-4a79-9983-4f63cb623ff8",
   "metadata": {},
   "outputs": [
    {
     "name": "stdout",
     "output_type": "stream",
     "text": [
      "((\"CE\", 1969, 7, 20), (\"RC\", 1969, 7, 7), (\"EC\", 1969, 7, 20), (\"AM\", 5729, 5, 5), (\"AH\", 1389, 5, 5), (\"ID\", 1969, 29, 7), (\"RD\", 0, 0, 718998))\n",
      "Common    CE 1969-07-20\n",
      "Julian    RC 1969-07-07\n",
      "European  EC 1969-07-20\n",
      "Hebrew    AM 5729-05-05\n",
      "Islamic   AH 1389-05-05\n",
      "IsoDate   ID 1969-29-07\n",
      "DayNumber RD  718998\n"
     ]
    },
    {
     "data": {
      "text/plain": [
       "((\"CE\", 1969, 7, 20), (\"RC\", 1969, 7, 7), (\"EC\", 1969, 7, 20), (\"AM\", 5729, 5, 5), (\"AH\", 1389, 5, 5), (\"ID\", 1969, 29, 7), (\"RD\", 0, 0, 718998))"
      ]
     },
     "execution_count": 12,
     "metadata": {},
     "output_type": "execute_result"
    }
   ],
   "source": [
    "CalendarDates(\"CE\", 1969, 7, 20, true)"
   ]
  }
 ],
 "metadata": {
  "kernelspec": {
   "display_name": "Julia 1.8.0-DEV",
   "language": "julia",
   "name": "julia-1.8"
  },
  "language_info": {
   "file_extension": ".jl",
   "mimetype": "application/julia",
   "name": "julia",
   "version": "1.8.0"
  }
 },
 "nbformat": 4,
 "nbformat_minor": 5
}
