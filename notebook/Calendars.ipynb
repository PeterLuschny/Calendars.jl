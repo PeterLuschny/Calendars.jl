{
 "cells": [
  {
   "cell_type": "markdown",
   "id": "82669be7-f9de-4fad-8590-5de8cdd537ff",
   "metadata": {},
   "source": [
    "<h1 style='color:#5E7AFF'>CALENDARS</h1>"
   ]
  },
  {
   "cell_type": "markdown",
   "id": "389c7a2b-de64-4a79-bfd1-f8f6be5b2fdf",
   "metadata": {},
   "source": [
    "<strong>Registered on [JuliaHub](https://juliahub.com/ui/Packages/Calendars/yDHMq), \n",
    "    read the [Docs](https://docs.juliahub.com/Calendars/yDHMq), \n",
    "    get the source from the [repository](https://github.com/PeterLuschny/Calendars.jl) on GitHub, \n",
    "    or install with Pkg.add(\"Calendars\").</strong>"
   ]
  },
  {
   "cell_type": "code",
   "execution_count": 1,
   "id": "d3cb37c3-bef7-4690-b048-eb1de41bb511",
   "metadata": {},
   "outputs": [
    {
     "name": "stderr",
     "output_type": "stream",
     "text": [
      "┌ Info: Precompiling Calendars [2e69b1bb-2c9c-41e6-ab4b-04f4c0f206b8]\n",
      "└ @ Base loading.jl:1478\n"
     ]
    }
   ],
   "source": [
    "using Calendars"
   ]
  },
  {
   "cell_type": "markdown",
   "id": "a5003c92-f274-4857-ac5b-b560b5505791",
   "metadata": {},
   "source": [
    "<p style=\"color:brown;font-size:large\">Conversion of Dates</p>"
   ]
  },
  {
   "cell_type": "code",
   "execution_count": 2,
   "id": "459812c0",
   "metadata": {},
   "outputs": [
    {
     "data": {
      "text/plain": [
       "(\"AM\", 5516, 11, 25)"
      ]
     },
     "execution_count": 2,
     "metadata": {},
     "output_type": "execute_result"
    }
   ],
   "source": [
    "ConvertDate((\"Gregorian\", 1756, 1, 27), \"Hebrew\")"
   ]
  },
  {
   "cell_type": "code",
   "execution_count": 3,
   "id": "6c7451da",
   "metadata": {},
   "outputs": [
    {
     "name": "stdout",
     "output_type": "stream",
     "text": [
      "CE-1756-01-27 -> AM-5516-11-25\n"
     ]
    },
    {
     "data": {
      "text/plain": [
       "(\"AM\", 5516, 11, 25)"
      ]
     },
     "execution_count": 3,
     "metadata": {},
     "output_type": "execute_result"
    }
   ],
   "source": [
    "ConvertDate(\"CE\", 1756, 1, 27, \"AM\", true)"
   ]
  },
  {
   "cell_type": "markdown",
   "id": "aed30822-2685-453f-816d-d74406b65a1f",
   "metadata": {},
   "source": [
    "<p style=\"color:brown;font-size:large\">Date from day number</p>"
   ]
  },
  {
   "cell_type": "code",
   "execution_count": 4,
   "id": "6521cede",
   "metadata": {},
   "outputs": [
    {
     "data": {
      "text/plain": [
       "(\"CE\", 1756, 1, 27)"
      ]
     },
     "execution_count": 4,
     "metadata": {},
     "output_type": "execute_result"
    }
   ],
   "source": [
    "DateFromDayNumber(\"Gregorian\", 641027)"
   ]
  },
  {
   "cell_type": "markdown",
   "id": "f9aa5345-864e-48b6-8f43-6415da6b1e80",
   "metadata": {},
   "source": [
    "<p style=\"color:brown;font-size:large\">Day number from Date</p>"
   ]
  },
  {
   "cell_type": "code",
   "execution_count": 5,
   "id": "84008ebb",
   "metadata": {},
   "outputs": [
    {
     "name": "stdout",
     "output_type": "stream",
     "text": [
      "CE-1756-01-27 -> DN#0641027\n"
     ]
    },
    {
     "data": {
      "text/plain": [
       "641027"
      ]
     },
     "execution_count": 5,
     "metadata": {},
     "output_type": "execute_result"
    }
   ],
   "source": [
    "DayNumberFromDate(\"CE\", 1756, 1, 27, true)"
   ]
  },
  {
   "cell_type": "markdown",
   "id": "bddb98f5-1c82-4bc6-b7b6-fcb5000ed3d0",
   "metadata": {},
   "source": [
    "<p style=\"color:brown;font-size:large\">Calendar Dates</p>"
   ]
  },
  {
   "cell_type": "code",
   "execution_count": 6,
   "id": "07bbb3b3",
   "metadata": {},
   "outputs": [
    {
     "data": {
      "text/plain": [
       "((\"EC\", 1756, 1, 27), (\"CE\", 1756, 1, 27), (\"JD\", 1756, 1, 16), (\"AM\", 5516, 11, 25), (\"AH\", 1169, 4, 24), (\"ID\", 1756, 5, 2), (\"EN\", 0, 0, 641029))"
      ]
     },
     "execution_count": 6,
     "metadata": {},
     "output_type": "execute_result"
    }
   ],
   "source": [
    "CalendarDates(\"Gregorian\", 1756, 1, 27)"
   ]
  },
  {
   "cell_type": "code",
   "execution_count": 7,
   "id": "f54dfc8b",
   "metadata": {},
   "outputs": [
    {
     "name": "stdout",
     "output_type": "stream",
     "text": [
      "European  EC-1756-01-27\n",
      "Common    CE-1756-01-27\n",
      "Julian    JD-1756-01-16\n",
      "Hebrew    AM-5516-11-25\n",
      "Islamic   AH-1169-04-24\n",
      "IsoDate   ID-1756-05-02\n",
      "EuroNum   EN#0641029\n"
     ]
    },
    {
     "data": {
      "text/plain": [
       "((\"EC\", 1756, 1, 27), (\"CE\", 1756, 1, 27), (\"JD\", 1756, 1, 16), (\"AM\", 5516, 11, 25), (\"AH\", 1169, 4, 24), (\"ID\", 1756, 5, 2), (\"EN\", 0, 0, 641029))"
      ]
     },
     "execution_count": 7,
     "metadata": {},
     "output_type": "execute_result"
    }
   ],
   "source": [
    "CalendarDates(\"CE\", 1756, 1, 27, true)"
   ]
  },
  {
   "cell_type": "markdown",
   "id": "5fc73ca6-417c-474e-b4dc-446c6a492a44",
   "metadata": {},
   "source": [
    "<p style=\"color:brown;font-size:large\">Epoch of Diocletian, Coptic calendar</p>"
   ]
  },
  {
   "cell_type": "code",
   "execution_count": 8,
   "id": "d20730c4-b57c-436c-be78-f1ca7b4a9ead",
   "metadata": {},
   "outputs": [
    {
     "name": "stdout",
     "output_type": "stream",
     "text": [
      "European  EC-0284-08-29\n",
      "Common    CE-0284-08-29\n",
      "Julian    JD-0284-08-29\n",
      "Hebrew    AM-4044-06-29\n",
      "INVALID   00-0000-00-00\n",
      "IsoDate   ID-0284-35-05\n",
      "EuroNum   EN#0103607\n"
     ]
    },
    {
     "data": {
      "text/plain": [
       "((\"EC\", 284, 8, 29), (\"CE\", 284, 8, 29), (\"JD\", 284, 8, 29), (\"AM\", 4044, 6, 29), (\"00\", 0, 0, 0), (\"ID\", 284, 35, 5), (\"EN\", 0, 0, 103607))"
      ]
     },
     "execution_count": 8,
     "metadata": {},
     "output_type": "execute_result"
    }
   ],
   "source": [
    "CalendarDates(\"JD\", 284, 8, 29, true)"
   ]
  },
  {
   "cell_type": "markdown",
   "id": "74ec0093-2344-4272-9bbf-962a9b25cff9",
   "metadata": {},
   "source": [
    "<p style=\"color:brown;font-size:large\">Epoch of Gregorian calendar (CE)</p>"
   ]
  },
  {
   "cell_type": "code",
   "execution_count": 9,
   "id": "46091db4-1f82-4a7d-9f25-2e82dc61de0b",
   "metadata": {},
   "outputs": [
    {
     "name": "stdout",
     "output_type": "stream",
     "text": [
      "European  EC-1582-10-15\n",
      "Common    CE-1582-10-15\n",
      "Julian    JD-1582-10-05\n",
      "Hebrew    AM-5343-07-19\n",
      "Islamic   AH-0990-09-17\n",
      "IsoDate   ID-1582-41-05\n",
      "EuroNum   EN#0577738\n"
     ]
    },
    {
     "data": {
      "text/plain": [
       "((\"EC\", 1582, 10, 15), (\"CE\", 1582, 10, 15), (\"JD\", 1582, 10, 5), (\"AM\", 5343, 7, 19), (\"AH\", 990, 9, 17), (\"ID\", 1582, 41, 5), (\"EN\", 0, 0, 577738))"
      ]
     },
     "execution_count": 9,
     "metadata": {},
     "output_type": "execute_result"
    }
   ],
   "source": [
    "CalendarDates(\"CE\", 1582, 10, 15, true)"
   ]
  },
  {
   "cell_type": "markdown",
   "id": "de693bec-552a-4936-9e77-8e4213fbbea1",
   "metadata": {},
   "source": [
    "<p style=\"color:brown;font-size:large\">Epoch of Islamic calendar (AH)</p>"
   ]
  },
  {
   "cell_type": "code",
   "execution_count": 10,
   "id": "2f6af10f-4b78-43d7-b389-ce93e95cdba5",
   "metadata": {},
   "outputs": [
    {
     "name": "stdout",
     "output_type": "stream",
     "text": [
      "European  EC-0622-07-16\n",
      "Common    CE-0622-07-19\n",
      "Julian    JD-0622-07-16\n",
      "Hebrew    AM-4382-05-03\n",
      "Islamic   AH-0001-01-01\n",
      "IsoDate   ID-0622-29-05\n",
      "EuroNum   EN#0227017\n"
     ]
    },
    {
     "data": {
      "text/plain": [
       "((\"EC\", 622, 7, 16), (\"CE\", 622, 7, 19), (\"JD\", 622, 7, 16), (\"AM\", 4382, 5, 3), (\"AH\", 1, 1, 1), (\"ID\", 622, 29, 5), (\"EN\", 0, 0, 227017))"
      ]
     },
     "execution_count": 10,
     "metadata": {},
     "output_type": "execute_result"
    }
   ],
   "source": [
    "CalendarDates(\"JD\", 622, 7, 16, true)"
   ]
  },
  {
   "cell_type": "markdown",
   "id": "bc7a7a6d-10c0-4d11-b510-5cb208998c98",
   "metadata": {},
   "source": [
    "<p style=\"color:brown;font-size:large\">French Republican calendar</p>"
   ]
  },
  {
   "cell_type": "code",
   "execution_count": 11,
   "id": "f48190e1-6edd-459d-9e92-b47fbe372885",
   "metadata": {},
   "outputs": [
    {
     "name": "stdout",
     "output_type": "stream",
     "text": [
      "European  EC-1792-09-22\n",
      "Common    CE-1792-09-22\n",
      "Julian    JD-1792-09-11\n",
      "Hebrew    AM-5553-07-06\n",
      "Islamic   AH-1207-02-05\n",
      "IsoDate   ID-1792-38-06\n",
      "EuroNum   EN#0654417\n"
     ]
    },
    {
     "data": {
      "text/plain": [
       "((\"EC\", 1792, 9, 22), (\"CE\", 1792, 9, 22), (\"JD\", 1792, 9, 11), (\"AM\", 5553, 7, 6), (\"AH\", 1207, 2, 5), (\"ID\", 1792, 38, 6), (\"EN\", 0, 0, 654417))"
      ]
     },
     "execution_count": 11,
     "metadata": {},
     "output_type": "execute_result"
    }
   ],
   "source": [
    "CalendarDates(\"CE\", 1792, 9, 22, true)"
   ]
  },
  {
   "cell_type": "markdown",
   "id": "e57c58b4-6a76-4007-8c6e-c6c5a21296e3",
   "metadata": {},
   "source": [
    "<p style=\"color:brown;font-size:large\">First crewed moon landing (Apollo 11)</p> "
   ]
  },
  {
   "cell_type": "code",
   "execution_count": 12,
   "id": "44587a06-6666-4a79-9983-4f63cb623ff8",
   "metadata": {},
   "outputs": [
    {
     "name": "stdout",
     "output_type": "stream",
     "text": [
      "European  EC-1969-07-20\n",
      "Common    CE-1969-07-20\n",
      "Julian    JD-1969-07-07\n",
      "Hebrew    AM-5729-05-05\n",
      "Islamic   AH-1389-05-05\n",
      "IsoDate   ID-1969-29-07\n",
      "EuroNum   EN#0719000\n"
     ]
    },
    {
     "data": {
      "text/plain": [
       "((\"EC\", 1969, 7, 20), (\"CE\", 1969, 7, 20), (\"JD\", 1969, 7, 7), (\"AM\", 5729, 5, 5), (\"AH\", 1389, 5, 5), (\"ID\", 1969, 29, 7), (\"EN\", 0, 0, 719000))"
      ]
     },
     "execution_count": 12,
     "metadata": {},
     "output_type": "execute_result"
    }
   ],
   "source": [
    "CalendarDates(\"CE\", 1969, 7, 20, true)"
   ]
  },
  {
   "cell_type": "markdown",
   "id": "88635897",
   "metadata": {},
   "source": [
    "<p style=\"color:brown;font-size:large\">See the comment in README.md for the next example, that may seem confusing at first glance.</p> "
   ]
  },
  {
   "cell_type": "code",
   "execution_count": 13,
   "id": "78505c1b",
   "metadata": {},
   "outputs": [
    {
     "name": "stdout",
     "output_type": "stream",
     "text": [
      "# Calendars of the month EC-1582-10\n",
      "|    Common     |   European    |    Julian     |    Hebrew     |    Islamic    |    IsoDate    |  EuroNum   | JulianNum  |\n",
      "| :---:         |  :---:        | :---:         |  :---:        | :---:         |  :---:        | :---:      | :---:      |\n",
      "| CE-1582-10-11 | EC-1582-10-01 | JD-1582-10-01 | AM-5343-07-15 | AH-0990-09-13 | ID-1582-41-01 | EN#0577734 | JN#2299156 |\n",
      "| CE-1582-10-12 | EC-1582-10-02 | JD-1582-10-02 | AM-5343-07-16 | AH-0990-09-14 | ID-1582-41-02 | EN#0577735 | JN#2299157 |\n",
      "| CE-1582-10-13 | EC-1582-10-03 | JD-1582-10-03 | AM-5343-07-17 | AH-0990-09-15 | ID-1582-41-03 | EN#0577736 | JN#2299158 |\n",
      "| CE-1582-10-14 | EC-1582-10-04 | JD-1582-10-04 | AM-5343-07-18 | AH-0990-09-16 | ID-1582-41-04 | EN#0577737 | JN#2299159 |\n",
      "| CE-1582-10-15 | EC-1582-10-15 | JD-1582-10-05 | AM-5343-07-19 | AH-0990-09-17 | ID-1582-41-05 | EN#0577738 | JN#2299160 |\n",
      "| CE-1582-10-16 | EC-1582-10-16 | JD-1582-10-06 | AM-5343-07-20 | AH-0990-09-18 | ID-1582-41-06 | EN#0577739 | JN#2299161 |\n",
      "| CE-1582-10-17 | EC-1582-10-17 | JD-1582-10-07 | AM-5343-07-21 | AH-0990-09-19 | ID-1582-41-07 | EN#0577740 | JN#2299162 |\n",
      "| CE-1582-10-18 | EC-1582-10-18 | JD-1582-10-08 | AM-5343-07-22 | AH-0990-09-20 | ID-1582-42-01 | EN#0577741 | JN#2299163 |\n",
      "| CE-1582-10-19 | EC-1582-10-19 | JD-1582-10-09 | AM-5343-07-23 | AH-0990-09-21 | ID-1582-42-02 | EN#0577742 | JN#2299164 |\n",
      "| CE-1582-10-20 | EC-1582-10-20 | JD-1582-10-10 | AM-5343-07-24 | AH-0990-09-22 | ID-1582-42-03 | EN#0577743 | JN#2299165 |\n",
      "| CE-1582-10-21 | EC-1582-10-21 | JD-1582-10-11 | AM-5343-07-25 | AH-0990-09-23 | ID-1582-42-04 | EN#0577744 | JN#2299166 |\n",
      "| CE-1582-10-22 | EC-1582-10-22 | JD-1582-10-12 | AM-5343-07-26 | AH-0990-09-24 | ID-1582-42-05 | EN#0577745 | JN#2299167 |\n",
      "| CE-1582-10-23 | EC-1582-10-23 | JD-1582-10-13 | AM-5343-07-27 | AH-0990-09-25 | ID-1582-42-06 | EN#0577746 | JN#2299168 |\n",
      "| CE-1582-10-24 | EC-1582-10-24 | JD-1582-10-14 | AM-5343-07-28 | AH-0990-09-26 | ID-1582-42-07 | EN#0577747 | JN#2299169 |\n",
      "| CE-1582-10-25 | EC-1582-10-25 | JD-1582-10-15 | AM-5343-07-29 | AH-0990-09-27 | ID-1582-43-01 | EN#0577748 | JN#2299170 |\n",
      "| CE-1582-10-26 | EC-1582-10-26 | JD-1582-10-16 | AM-5343-07-30 | AH-0990-09-28 | ID-1582-43-02 | EN#0577749 | JN#2299171 |\n",
      "| CE-1582-10-27 | EC-1582-10-27 | JD-1582-10-17 | AM-5343-08-01 | AH-0990-09-29 | ID-1582-43-03 | EN#0577750 | JN#2299172 |\n",
      "| CE-1582-10-28 | EC-1582-10-28 | JD-1582-10-18 | AM-5343-08-02 | AH-0990-09-30 | ID-1582-43-04 | EN#0577751 | JN#2299173 |\n",
      "| CE-1582-10-29 | EC-1582-10-29 | JD-1582-10-19 | AM-5343-08-03 | AH-0990-10-01 | ID-1582-43-05 | EN#0577752 | JN#2299174 |\n",
      "| CE-1582-10-30 | EC-1582-10-30 | JD-1582-10-20 | AM-5343-08-04 | AH-0990-10-02 | ID-1582-43-06 | EN#0577753 | JN#2299175 |\n",
      "| CE-1582-10-31 | EC-1582-10-31 | JD-1582-10-21 | AM-5343-08-05 | AH-0990-10-03 | ID-1582-43-07 | EN#0577754 | JN#2299176 |\n",
      "| CE-1582-11-01 | EC-1582-11-01 | JD-1582-10-22 | AM-5343-08-06 | AH-0990-10-04 | ID-1582-44-01 | EN#0577755 | JN#2299177 |\n",
      "| CE-1582-11-02 | EC-1582-11-02 | JD-1582-10-23 | AM-5343-08-07 | AH-0990-10-05 | ID-1582-44-02 | EN#0577756 | JN#2299178 |\n",
      "| CE-1582-11-03 | EC-1582-11-03 | JD-1582-10-24 | AM-5343-08-08 | AH-0990-10-06 | ID-1582-44-03 | EN#0577757 | JN#2299179 |\n",
      "| CE-1582-11-04 | EC-1582-11-04 | JD-1582-10-25 | AM-5343-08-09 | AH-0990-10-07 | ID-1582-44-04 | EN#0577758 | JN#2299180 |\n",
      "| CE-1582-11-05 | EC-1582-11-05 | JD-1582-10-26 | AM-5343-08-10 | AH-0990-10-08 | ID-1582-44-05 | EN#0577759 | JN#2299181 |\n",
      "| CE-1582-11-06 | EC-1582-11-06 | JD-1582-10-27 | AM-5343-08-11 | AH-0990-10-09 | ID-1582-44-06 | EN#0577760 | JN#2299182 |\n",
      "| CE-1582-11-07 | EC-1582-11-07 | JD-1582-10-28 | AM-5343-08-12 | AH-0990-10-10 | ID-1582-44-07 | EN#0577761 | JN#2299183 |\n",
      "| CE-1582-11-08 | EC-1582-11-08 | JD-1582-10-29 | AM-5343-08-13 | AH-0990-10-11 | ID-1582-45-01 | EN#0577762 | JN#2299184 |\n",
      "| CE-1582-11-09 | EC-1582-11-09 | JD-1582-10-30 | AM-5343-08-14 | AH-0990-10-12 | ID-1582-45-02 | EN#0577763 | JN#2299185 |\n",
      "| CE-1582-11-10 | EC-1582-11-10 | JD-1582-10-31 | AM-5343-08-15 | AH-0990-10-13 | ID-1582-45-03 | EN#0577764 | JN#2299186 |\n"
     ]
    }
   ],
   "source": [
    "PrintEuropeanMonth(1582, 10)"
   ]
  },
  {
   "cell_type": "markdown",
   "id": "b2d03a71",
   "metadata": {},
   "source": [
    "# Calendars of the month EC-1582-10\n",
    "|    Common     |   European    |    Julian     |    Hebrew     |    Islamic    |    IsoDate    |  EuroNum   | JulianNum  |\n",
    "| :---:         |  :---:        | :---:         |  :---:        | :---:         |  :---:        | :---:      | :---:      |\n",
    "| CE-1582-10-11 | EC-1582-10-01 | JD-1582-10-01 | AM-5343-07-15 | AH-0990-09-13 | ID-1582-41-01 | EN#0577734 | JN#2299156 |\n",
    "| CE-1582-10-12 | EC-1582-10-02 | JD-1582-10-02 | AM-5343-07-16 | AH-0990-09-14 | ID-1582-41-02 | EN#0577735 | JN#2299157 |\n",
    "| CE-1582-10-13 | EC-1582-10-03 | JD-1582-10-03 | AM-5343-07-17 | AH-0990-09-15 | ID-1582-41-03 | EN#0577736 | JN#2299158 |\n",
    "| CE-1582-10-14 | EC-1582-10-04 | JD-1582-10-04 | AM-5343-07-18 | AH-0990-09-16 | ID-1582-41-04 | EN#0577737 | JN#2299159 |\n",
    "| CE-1582-10-15 | EC-1582-10-15 | JD-1582-10-05 | AM-5343-07-19 | AH-0990-09-17 | ID-1582-41-05 | EN#0577738 | JN#2299160 |\n",
    "| CE-1582-10-16 | EC-1582-10-16 | JD-1582-10-06 | AM-5343-07-20 | AH-0990-09-18 | ID-1582-41-06 | EN#0577739 | JN#2299161 |\n",
    "| CE-1582-10-17 | EC-1582-10-17 | JD-1582-10-07 | AM-5343-07-21 | AH-0990-09-19 | ID-1582-41-07 | EN#0577740 | JN#2299162 |\n",
    "| CE-1582-10-18 | EC-1582-10-18 | JD-1582-10-08 | AM-5343-07-22 | AH-0990-09-20 | ID-1582-42-01 | EN#0577741 | JN#2299163 |\n",
    "| CE-1582-10-19 | EC-1582-10-19 | JD-1582-10-09 | AM-5343-07-23 | AH-0990-09-21 | ID-1582-42-02 | EN#0577742 | JN#2299164 |\n",
    "| CE-1582-10-20 | EC-1582-10-20 | JD-1582-10-10 | AM-5343-07-24 | AH-0990-09-22 | ID-1582-42-03 | EN#0577743 | JN#2299165 |\n",
    "| CE-1582-10-21 | EC-1582-10-21 | JD-1582-10-11 | AM-5343-07-25 | AH-0990-09-23 | ID-1582-42-04 | EN#0577744 | JN#2299166 |\n",
    "| CE-1582-10-22 | EC-1582-10-22 | JD-1582-10-12 | AM-5343-07-26 | AH-0990-09-24 | ID-1582-42-05 | EN#0577745 | JN#2299167 |\n",
    "| CE-1582-10-23 | EC-1582-10-23 | JD-1582-10-13 | AM-5343-07-27 | AH-0990-09-25 | ID-1582-42-06 | EN#0577746 | JN#2299168 |\n",
    "| CE-1582-10-24 | EC-1582-10-24 | JD-1582-10-14 | AM-5343-07-28 | AH-0990-09-26 | ID-1582-42-07 | EN#0577747 | JN#2299169 |\n",
    "| CE-1582-10-25 | EC-1582-10-25 | JD-1582-10-15 | AM-5343-07-29 | AH-0990-09-27 | ID-1582-43-01 | EN#0577748 | JN#2299170 |\n",
    "| CE-1582-10-26 | EC-1582-10-26 | JD-1582-10-16 | AM-5343-07-30 | AH-0990-09-28 | ID-1582-43-02 | EN#0577749 | JN#2299171 |\n",
    "| CE-1582-10-27 | EC-1582-10-27 | JD-1582-10-17 | AM-5343-08-01 | AH-0990-09-29 | ID-1582-43-03 | EN#0577750 | JN#2299172 |\n",
    "| CE-1582-10-28 | EC-1582-10-28 | JD-1582-10-18 | AM-5343-08-02 | AH-0990-09-30 | ID-1582-43-04 | EN#0577751 | JN#2299173 |\n",
    "| CE-1582-10-29 | EC-1582-10-29 | JD-1582-10-19 | AM-5343-08-03 | AH-0990-10-01 | ID-1582-43-05 | EN#0577752 | JN#2299174 |\n",
    "| CE-1582-10-30 | EC-1582-10-30 | JD-1582-10-20 | AM-5343-08-04 | AH-0990-10-02 | ID-1582-43-06 | EN#0577753 | JN#2299175 |\n",
    "| CE-1582-10-31 | EC-1582-10-31 | JD-1582-10-21 | AM-5343-08-05 | AH-0990-10-03 | ID-1582-43-07 | EN#0577754 | JN#2299176 |\n",
    "| CE-1582-11-01 | EC-1582-11-01 | JD-1582-10-22 | AM-5343-08-06 | AH-0990-10-04 | ID-1582-44-01 | EN#0577755 | JN#2299177 |\n",
    "| CE-1582-11-02 | EC-1582-11-02 | JD-1582-10-23 | AM-5343-08-07 | AH-0990-10-05 | ID-1582-44-02 | EN#0577756 | JN#2299178 |\n",
    "| CE-1582-11-03 | EC-1582-11-03 | JD-1582-10-24 | AM-5343-08-08 | AH-0990-10-06 | ID-1582-44-03 | EN#0577757 | JN#2299179 |\n",
    "| CE-1582-11-04 | EC-1582-11-04 | JD-1582-10-25 | AM-5343-08-09 | AH-0990-10-07 | ID-1582-44-04 | EN#0577758 | JN#2299180 |\n",
    "| CE-1582-11-05 | EC-1582-11-05 | JD-1582-10-26 | AM-5343-08-10 | AH-0990-10-08 | ID-1582-44-05 | EN#0577759 | JN#2299181 |\n",
    "| CE-1582-11-06 | EC-1582-11-06 | JD-1582-10-27 | AM-5343-08-11 | AH-0990-10-09 | ID-1582-44-06 | EN#0577760 | JN#2299182 |\n",
    "| CE-1582-11-07 | EC-1582-11-07 | JD-1582-10-28 | AM-5343-08-12 | AH-0990-10-10 | ID-1582-44-07 | EN#0577761 | JN#2299183 |\n",
    "| CE-1582-11-08 | EC-1582-11-08 | JD-1582-10-29 | AM-5343-08-13 | AH-0990-10-11 | ID-1582-45-01 | EN#0577762 | JN#2299184 |\n",
    "| CE-1582-11-09 | EC-1582-11-09 | JD-1582-10-30 | AM-5343-08-14 | AH-0990-10-12 | ID-1582-45-02 | EN#0577763 | JN#2299185 |\n",
    "| CE-1582-11-10 | EC-1582-11-10 | JD-1582-10-31 | AM-5343-08-15 | AH-0990-10-13 | ID-1582-45-03 | EN#0577764 | JN#2299186 |"
   ]
  }
 ],
 "metadata": {
  "kernelspec": {
   "display_name": "Julia 1.8.0-DEV",
   "language": "julia",
   "name": "julia-1.8"
  },
  "language_info": {
   "file_extension": ".jl",
   "mimetype": "application/julia",
   "name": "julia",
   "version": "1.8.0"
  }
 },
 "nbformat": 4,
 "nbformat_minor": 5
}
